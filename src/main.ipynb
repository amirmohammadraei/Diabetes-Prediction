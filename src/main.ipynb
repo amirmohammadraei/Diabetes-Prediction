{
 "cells": [
  {
   "cell_type": "code",
   "execution_count": null,
   "metadata": {},
   "outputs": [],
   "source": [
    "! pip install scikit-learn\n",
    "\n",
    "import pandas as pd\n",
    "import numpy as np\n",
    "from sklearn.preprocessing import OneHotEncoder"
   ]
  },
  {
   "cell_type": "code",
   "execution_count": 72,
   "metadata": {},
   "outputs": [],
   "source": [
    "# Reas data from csv file\n",
    "df = pd.read_csv('data/diabetes.csv', header=[0])\n",
    "df = df.iloc[: , 1:]"
   ]
  },
  {
   "cell_type": "code",
   "execution_count": 73,
   "metadata": {},
   "outputs": [],
   "source": [
    "# Replace nan and Unknown values with previous value in the same column.\n",
    "for column in df[df.columns[2:]]:\n",
    "    df[column] = df[column].fillna(method='ffill')\n",
    "    df[column] = df[column].replace(to_replace='Unknown', method='ffill')\n",
    "\n",
    "df"
   ]
  },
  {
   "cell_type": "code",
   "execution_count": 36,
   "metadata": {},
   "outputs": [],
   "source": [
    "# Replace blank spaces with underscore.\n",
    "df.columns = df.columns.str.replace(' ','_')\n",
    "df = df.replace(' ', '_', regex=True)"
   ]
  },
  {
   "cell_type": "code",
   "execution_count": 35,
   "metadata": {},
   "outputs": [],
   "source": [
    "# Nomalize column'a data.\n",
    "cols_to_be_normalized = ['BMI', 'Physical_Health', 'Mental_Health', 'Age']\n",
    "for col in cols_to_be_normalized:\n",
    "    df[col] = df[col] / df[col].abs().max()"
   ]
  },
  {
   "cell_type": "code",
   "execution_count": null,
   "metadata": {},
   "outputs": [],
   "source": [
    "# Use one hot encoding to convert categorical data to numerical data.\n",
    "cat_cols = df.select_dtypes(include=[object]).columns.to_list()\n",
    "cat_cols_encoded = []\n",
    "for col in cat_cols:\n",
    "  cat_cols_encoded += [f\"{col}_{cat}\" for cat in list(df[col].unique())]\n",
    "oh_encoder = OneHotEncoder(sparse=False, handle_unknown='ignore')\n",
    "encoded_cols = oh_encoder.fit_transform(df[cat_cols])\n",
    "df_enc = pd.DataFrame(encoded_cols, columns=cat_cols_encoded)\n",
    "df_oh = df.join(df_enc)"
   ]
  }
 ],
 "metadata": {
  "kernelspec": {
   "display_name": "Python 3.9.13 ('.venv': venv)",
   "language": "python",
   "name": "python3"
  },
  "language_info": {
   "codemirror_mode": {
    "name": "ipython",
    "version": 3
   },
   "file_extension": ".py",
   "mimetype": "text/x-python",
   "name": "python",
   "nbconvert_exporter": "python",
   "pygments_lexer": "ipython3",
   "version": "3.9.13"
  },
  "orig_nbformat": 4,
  "vscode": {
   "interpreter": {
    "hash": "34a473b517448606e5380429f5a513b2ea6a4b300165f1ea1642c869ee864ea4"
   }
  }
 },
 "nbformat": 4,
 "nbformat_minor": 2
}
